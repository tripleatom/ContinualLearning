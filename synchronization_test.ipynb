{
 "cells": [
  {
   "cell_type": "code",
   "execution_count": 1,
   "metadata": {},
   "outputs": [],
   "source": [
    "import spikeinterface.extractors as se\n",
    "from pathlib import Path\n",
    "import numpy as np\n",
    "import spikeinterface as si\n",
    "from readTrodesExtractedDataFile3 import readTrodesExtractedDataFile\n",
    "import matplotlib.pyplot as plt"
   ]
  },
  {
   "cell_type": "code",
   "execution_count": 2,
   "metadata": {},
   "outputs": [],
   "source": [
    "rec_folder = r\"D:\\cl\\ephys\\latency_20240904_144725.rec\""
   ]
  },
  {
   "cell_type": "code",
   "execution_count": 3,
   "metadata": {},
   "outputs": [],
   "source": [
    "def get_dio_folders(rec_folder):\n",
    "    # get the folder under rec_folder that ends with \".DIO\"\n",
    "    rec_folder = Path(rec_folder)\n",
    "    dio_folders = [f for f in rec_folder.iterdir() if f.is_dir() and f.name.endswith(\".DIO\")]\n",
    "    return dio_folders"
   ]
  },
  {
   "cell_type": "code",
   "execution_count": 4,
   "metadata": {},
   "outputs": [
    {
     "data": {
      "text/plain": [
       "[WindowsPath('D:/cl/ephys/latency_20240904_144725.rec/latency_20240904_144725.DIO'),\n",
       " WindowsPath('D:/cl/ephys/latency_20240904_144725.rec/latency_20240904_144725.part2.DIO')]"
      ]
     },
     "execution_count": 4,
     "metadata": {},
     "output_type": "execute_result"
    }
   ],
   "source": [
    "dio_folders = get_dio_folders(rec_folder)\n",
    "# reorder the dio_folders according to the name\n",
    "dio_folders = sorted(dio_folders, key=lambda x: x.name)\n",
    "dio_folders"
   ]
  },
  {
   "cell_type": "code",
   "execution_count": 5,
   "metadata": {},
   "outputs": [],
   "source": [
    "def extract_DIN(DIO_folder, channel_id):\n",
    "    # get the file name\n",
    "    DIO_folder = Path(DIO_folder)\n",
    "\n",
    "    # file name is end with Din1.dat\n",
    "    din_files = [f for f in DIO_folder.iterdir() if f.is_file() and f.name.endswith(f\"Din{channel_id}.dat\")]\n",
    "    if len(din_files) == 0:\n",
    "        # return error if no file found\n",
    "        return None\n",
    "    \n",
    "    din_file = din_files[0]\n",
    "    # read the file\n",
    "    time = readTrodesExtractedDataFile(din_file)['data']['time']\n",
    "    state = readTrodesExtractedDataFile(din_file)['data']['state']\n",
    "    return time, state"
   ]
  },
  {
   "cell_type": "code",
   "execution_count": 6,
   "metadata": {},
   "outputs": [],
   "source": [
    "def concatenate_din_data(dio_folders, channel_id: int):\n",
    "    # initialize the din_data\n",
    "    time, state = extract_DIN(dio_folders[0], channel_id)\n",
    "\n",
    "    if len(dio_folders) == 1:\n",
    "        return time, state\n",
    "    \n",
    "    \n",
    "    for i in range(1, len(dio_folders)):\n",
    "        time_, state_ = extract_DIN(dio_folders[i], channel_id)\n",
    "        # if the end of the last state is the same as the start of the current state, remove the first element of the current state and time\n",
    "        if state[-1] == state_[0]:\n",
    "            state_ = state_[1:]\n",
    "            time_ = time_[1:]\n",
    "\n",
    "        time = np.concatenate((time, time_))\n",
    "        state = np.concatenate((state, state_))\n",
    "    return time, state"
   ]
  },
  {
   "cell_type": "code",
   "execution_count": 7,
   "metadata": {},
   "outputs": [
    {
     "name": "stderr",
     "output_type": "stream",
     "text": [
      "\\\\10.129.151.108\\xieluanlabs\\xl_cl\\code\\readTrodesExtractedDataFile3.py:64: FutureWarning: Passing (type, 1) or '1type' as a synonym of type is deprecated; in a future version of numpy, it will be understood as (type, (1,)) / '(1,)type'.\n",
      "  return np.dtype(typearr)\n"
     ]
    }
   ],
   "source": [
    "strobe_out_time, strobe_out_state = concatenate_din_data(dio_folders, 1)\n",
    "indicator_time, indicator_state = concatenate_din_data(dio_folders, 2)"
   ]
  },
  {
   "cell_type": "code",
   "execution_count": 8,
   "metadata": {},
   "outputs": [],
   "source": [
    "import numpy as np\n",
    "\n",
    "def complete_time_series(indicator_time, indicator_state, time_series):\n",
    "    # Ensure indicator_time and indicator_state are numpy arrays\n",
    "    indicator_time = np.array(indicator_time)\n",
    "    indicator_state = np.array(indicator_state)\n",
    "\n",
    "    # Initialize the output array to store the state for each time in time_series\n",
    "    completed_state = np.zeros_like(time_series, dtype=int)\n",
    "\n",
    "    # Iterate through the time series and assign the state based on the indicator change points\n",
    "    for i, t in enumerate(time_series):\n",
    "        # Find the last indicator_time that is less than or equal to the current time\n",
    "        idx = np.searchsorted(indicator_time, t, side='right') - 1\n",
    "        \n",
    "        if idx >= 0:\n",
    "            # Assign the corresponding state\n",
    "            completed_state[i] = indicator_state[idx]\n",
    "\n",
    "    return completed_state\n",
    "\n",
    "time_series = np.linspace(0, strobe_out_time[-1], strobe_out_time[-1])\n",
    "\n",
    "completed_state = complete_time_series(indicator_time, indicator_state, time_series)\n"
   ]
  },
  {
   "cell_type": "code",
   "execution_count": 14,
   "metadata": {},
   "outputs": [
    {
     "data": {
      "text/plain": [
       "[<matplotlib.lines.Line2D at 0x23acfca7750>]"
      ]
     },
     "execution_count": 14,
     "metadata": {},
     "output_type": "execute_result"
    },
    {
     "data": {
      "image/png": "[encoded data removed]",
      "text/plain": [
       "<Figure size 1500x500 with 1 Axes>"
      ]
     },
     "metadata": {},
     "output_type": "display_data"
    }
   ],
   "source": [
    "t = time_series/30000\n",
    "t_range = (146.55,146.60)\n",
    "# t_range = (146, 160)\n",
    "# find the t index in the range\n",
    "t_idx = np.where((t>=t_range[0]) & (t<=t_range[1]))[0]\n",
    "\n",
    "plt.figure(figsize=(15,5))\n",
    "plt.plot(t[t_idx], completed_state[t_idx])"
   ]
  },
  {
   "cell_type": "code",
   "execution_count": 10,
   "metadata": {},
   "outputs": [],
   "source": [
    "# extract rising and falling edges time stamps\n",
    "indicator_t = indicator_time/30000\n",
    "rising_edges = indicator_t[np.where(indicator_state==1)]\n",
    "falling_edges = indicator_t[np.where(indicator_state==0)][1:]"
   ]
  },
  {
   "cell_type": "code",
   "execution_count": 11,
   "metadata": {},
   "outputs": [],
   "source": [
    "# delete all the fallings happens in 0.05s after a rising, and delete its corresponding next rising\n",
    "falling_to_delete = np.where(falling_edges - rising_edges < 0.02)[0]\n",
    "falling_edges = np.delete(falling_edges, falling_to_delete)\n",
    "rising_edges = np.delete(rising_edges, falling_to_delete+1)"
   ]
  },
  {
   "cell_type": "code",
   "execution_count": 12,
   "metadata": {},
   "outputs": [
    {
     "data": {
      "text/plain": [
       "<matplotlib.legend.Legend at 0x23acfdebc10>"
      ]
     },
     "execution_count": 12,
     "metadata": {},
     "output_type": "execute_result"
    },
    {
     "data": {
      "image/png": "[encoded data removed]",
      "text/plain": [
       "<Figure size 1000x500 with 1 Axes>"
      ]
     },
     "metadata": {},
     "output_type": "display_data"
    }
   ],
   "source": [
    "# get the rising to falling time and falling to rising time\n",
    "rising_to_falling_time = falling_edges - rising_edges\n",
    "falling_to_rising_time = rising_edges[1:] - falling_edges[:-1]\n",
    "\n",
    "# plot the hist separately\n",
    "plt.figure(figsize=(10,5))\n",
    "plt.hist(rising_to_falling_time, bins=10, alpha=0.5, label='rising to falling')\n",
    "plt.hist(falling_to_rising_time, bins=10, alpha=0.5, label='falling to rising')\n",
    "plt.legend()"
   ]
  },
  {
   "cell_type": "code",
   "execution_count": 13,
   "metadata": {},
   "outputs": [
    {
     "data": {
      "text/plain": [
       "(array([  1.,   0.,   0.,   0.,   0.,   0.,   0.,   1.,  33., 198.]),\n",
       " array([0.079     , 0.11326333, 0.14752667, 0.18179   , 0.21605333,\n",
       "        0.25031667, 0.28458   , 0.31884333, 0.35310667, 0.38737   ,\n",
       "        0.42163333]),\n",
       " <BarContainer object of 10 artists>)"
      ]
     },
     "execution_count": 13,
     "metadata": {},
     "output_type": "execute_result"
    },
    {
     "data": {
      "image/png": "[encoded data removed]",
      "text/plain": [
       "<Figure size 640x480 with 1 Axes>"
      ]
     },
     "metadata": {},
     "output_type": "display_data"
    }
   ],
   "source": [
    "falling_to_falling_time = falling_edges[1:] - falling_edges[:-1]\n",
    "plt.hist(falling_to_falling_time, bins=10, alpha=0.5, label='falling to falling')"
   ]
  },
  {
   "cell_type": "code",
   "execution_count": null,
   "metadata": {},
   "outputs": [],
   "source": []
  }
 ],
 "metadata": {
  "kernelspec": {
   "display_name": "base",
   "language": "python",
   "name": "python3"
  },
  "language_info": {
   "codemirror_mode": {
    "name": "ipython",
    "version": 3
   },
   "file_extension": ".py",
   "mimetype": "text/x-python",
   "name": "python",
   "nbconvert_exporter": "python",
   "pygments_lexer": "ipython3",
   "version": "3.11.7"
  }
 },
 "nbformat": 4,
 "nbformat_minor": 2
}
