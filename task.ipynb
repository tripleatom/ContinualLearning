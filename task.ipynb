{
 "cells": [
  {
   "cell_type": "code",
   "execution_count": 37,
   "metadata": {},
   "outputs": [],
   "source": [
    "import numpy as np \n",
    "import matplotlib.pyplot as plt"
   ]
  },
  {
   "cell_type": "code",
   "execution_count": 38,
   "metadata": {},
   "outputs": [],
   "source": [
    "folder = \"C:\\\\Users\\\\Windows\\\\vr4mice_video\""
   ]
  },
  {
   "cell_type": "code",
   "execution_count": 39,
   "metadata": {},
   "outputs": [],
   "source": [
    "animal_id='CnL15'"
   ]
  },
  {
   "cell_type": "code",
   "execution_count": 40,
   "metadata": {},
   "outputs": [],
   "source": [
    "# get all files starting with animal_id\n",
    "import os\n",
    "files = os.listdir(folder)\n",
    "files = [f for f in files if f.startswith(animal_id)]"
   ]
  },
  {
   "cell_type": "code",
   "execution_count": 41,
   "metadata": {},
   "outputs": [
    {
     "data": {
      "text/plain": [
       "['CnL15_2024-06-08_1.pickle',\n",
       " 'CnL15_2024-06-09_1.pickle',\n",
       " 'CnL15_2024-06-10_1.pickle',\n",
       " 'CnL15_2024-06-11_1.pickle',\n",
       " 'CnL15_2024-06-12_1.pickle',\n",
       " 'CnL15_2024-06-12_2.pickle',\n",
       " 'CnL15_2024-06-13_2.pickle',\n",
       " 'CnL15_2024-06-14_1.pickle',\n",
       " 'CnL15_2024-06-15_1.pickle',\n",
       " 'CnL15_2024-06-16_1.pickle',\n",
       " 'CnL15_2024-06-17_1.pickle',\n",
       " 'CnL15_2024-06-18_1.pickle',\n",
       " 'CnL15_2024-06-19_1.pickle',\n",
       " 'CnL15_2024-06-19_2.pickle']"
      ]
     },
     "execution_count": 41,
     "metadata": {},
     "output_type": "execute_result"
    }
   ],
   "source": [
    "files"
   ]
  },
  {
   "cell_type": "code",
   "execution_count": 42,
   "metadata": {},
   "outputs": [],
   "source": [
    "file = files[-1]"
   ]
  },
  {
   "cell_type": "code",
   "execution_count": 43,
   "metadata": {},
   "outputs": [],
   "source": [
    "# load the pickle file\n",
    "import pickle\n",
    "with open(os.path.join(folder, file), 'rb') as f:\n",
    "    data = pickle.load(f)\n",
    "    "
   ]
  },
  {
   "cell_type": "code",
   "execution_count": 44,
   "metadata": {},
   "outputs": [
    {
     "data": {
      "text/plain": [
       "array([ 1,  1,  1, ..., 75, 75, 75])"
      ]
     },
     "execution_count": 44,
     "metadata": {},
     "output_type": "execute_result"
    }
   ],
   "source": [
    "data['episode']"
   ]
  },
  {
   "cell_type": "code",
   "execution_count": 45,
   "metadata": {},
   "outputs": [],
   "source": [
    "a = data['reward']"
   ]
  },
  {
   "cell_type": "code",
   "execution_count": 46,
   "metadata": {},
   "outputs": [
    {
     "data": {
      "text/plain": [
       "71.0"
      ]
     },
     "execution_count": 46,
     "metadata": {},
     "output_type": "execute_result"
    }
   ],
   "source": [
    "a.sum()"
   ]
  },
  {
   "cell_type": "code",
   "execution_count": 47,
   "metadata": {},
   "outputs": [
    {
     "data": {
      "text/plain": [
       "dict_keys(['start_time', 'episode', 'step', 'step_time', 'state', 'action', 'reward', 'terminal', 'cameraSelection', 'target_selection', 'distractor_selection', 'Object_on_Left', 'slitSize', 'slit_depth', 'targetsFromMidline', 'targetsheight', 'mouseReportDelay', 'startBoxDelay', 'velocityThreshold', 'occlusion_type', 'targetsZpos', 'target_rotation', 'L_box_x_min', 'L_box_x_max', 'L_box_z_min', 'L_box_z_max', 'R_box_x_min', 'R_box_x_max', 'R_box_z_min', 'R_box_z_max', 'TT_box_x_min', 'TT_box_x_max', 'TT_box_z_min', 'TT_box_z_max', 'TT_box_angle', 'distractor', 'targetSize', 'Grey_screen_active', 'session_label', 'dlc_read_time', 'dlc_x', 'dlc_y', 'dlc_heading', 'block_labels', 'slit_size', 'trial_slit_depth', 'R_report_box', 'L_report_box', 'start_box', 'cropped_image', 'unity_arena_size', 'camera_roation', 'mouse_report_delay', 'velocity_threshold', 'start_box_delay', 'target_size', 'grey_screen_active', 'camera_type', 'target_distance'])"
      ]
     },
     "execution_count": 47,
     "metadata": {},
     "output_type": "execute_result"
    }
   ],
   "source": [
    "data.keys()"
   ]
  },
  {
   "cell_type": "code",
   "execution_count": 48,
   "metadata": {},
   "outputs": [
    {
     "data": {
      "text/plain": [
       "array([     1,      2,      3, ..., 160906, 160907, 160908])"
      ]
     },
     "execution_count": 48,
     "metadata": {},
     "output_type": "execute_result"
    }
   ],
   "source": [
    "data['step']"
   ]
  },
  {
   "cell_type": "code",
   "execution_count": 49,
   "metadata": {},
   "outputs": [
    {
     "data": {
      "text/plain": [
       "array([0.00000000e+00, 2.89406776e-02, 8.41968060e-02, ...,\n",
       "       3.21959613e+03, 3.21961238e+03, 3.21962941e+03])"
      ]
     },
     "execution_count": 49,
     "metadata": {},
     "output_type": "execute_result"
    }
   ],
   "source": [
    "data['step_time']"
   ]
  },
  {
   "cell_type": "code",
   "execution_count": 50,
   "metadata": {},
   "outputs": [],
   "source": [
    "dt = data['step_time'][1]-data['step_time'][0]"
   ]
  },
  {
   "cell_type": "code",
   "execution_count": 51,
   "metadata": {},
   "outputs": [
    {
     "data": {
      "text/plain": [
       "4656.786558151245"
      ]
     },
     "execution_count": 51,
     "metadata": {},
     "output_type": "execute_result"
    }
   ],
   "source": [
    "data['step'][-1] * dt"
   ]
  },
  {
   "cell_type": "code",
   "execution_count": null,
   "metadata": {},
   "outputs": [],
   "source": []
  }
 ],
 "metadata": {
  "kernelspec": {
   "display_name": "base",
   "language": "python",
   "name": "python3"
  },
  "language_info": {
   "codemirror_mode": {
    "name": "ipython",
    "version": 3
   },
   "file_extension": ".py",
   "mimetype": "text/x-python",
   "name": "python",
   "nbconvert_exporter": "python",
   "pygments_lexer": "ipython3",
   "version": "3.11.7"
  }
 },
 "nbformat": 4,
 "nbformat_minor": 2
}
