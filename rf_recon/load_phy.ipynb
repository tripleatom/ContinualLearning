{
 "cells": [
  {
   "cell_type": "code",
   "execution_count": 1,
   "metadata": {},
   "outputs": [
    {
     "name": "stderr",
     "output_type": "stream",
     "text": [
      "/Users/xiaorongzhang/anaconda3/envs/ms10/lib/python3.10/site-packages/tqdm/auto.py:21: TqdmWarning: IProgress not found. Please update jupyter and ipywidgets. See https://ipywidgets.readthedocs.io/en/stable/user_install.html\n",
      "  from .autonotebook import tqdm as notebook_tqdm\n"
     ]
    }
   ],
   "source": [
    "from spikeinterface.extractors import PhySortingExtractor"
   ]
  },
  {
   "cell_type": "code",
   "execution_count": 5,
   "metadata": {},
   "outputs": [],
   "source": [
    "phy_folder = '/Volumes/xieluanlabs/xl_cl/code/sortout/CnL22/20241218_130546/0/sorting_results_20241220_1538/phy'"
   ]
  },
  {
   "cell_type": "code",
   "execution_count": 6,
   "metadata": {},
   "outputs": [],
   "source": [
    "sorting = PhySortingExtractor(phy_folder)"
   ]
  },
  {
   "cell_type": "code",
   "execution_count": 7,
   "metadata": {},
   "outputs": [
    {
     "data": {
      "text/html": [
       "<div style='border:1px solid #ddd; padding:10px;'><strong>PhySortingExtractor: 13 units - 1 segments - 30.0kHz</strong></div><details style='margin-left: 10px;'>  <summary><strong>Unit IDs</strong></summary><ul>[ 1  2  3  4  5  6  7  8  9 10 11 12 13] </details><details style='margin-left: 10px;'>  <summary><strong>Annotations</strong></summary><ul><li> <strong> phy_folder </strong>: /Volumes/xieluanlabs/xl_cl/code/sortout/CnL22/20241218_130546/0/sorting_results_20241220_1538/phy</li></details><details style='margin-left: 10px;'><summary><strong>Unit Properties</strong></summary><ul><details><summary><strong>original_cluster_id</strong></summary>[ 0  1  2  3  4  5  6  7  8  9 10 11 12]</details><details><summary><strong>quality</strong></summary>['unsorted' 'unsorted' 'unsorted' 'unsorted' 'unsorted' 'unsorted'\n",
       " 'unsorted' 'unsorted' 'unsorted' 'unsorted' 'unsorted' 'unsorted'\n",
       " 'unsorted']</details><details><summary><strong>snr</strong></summary>[5.12527266 5.3742165  5.06633854 4.82277893 2.64476044 7.21548814\n",
       " 6.79169151 8.88459318 4.81484372 5.10737062 9.18767993 1.81259648\n",
       " 5.48339317]</details><details><summary><strong>sync_spike_4</strong></summary>[0. 0. 0. 0. 0. 0. 0. 0. 0. 0. 0. 0. 0.]</details><details><summary><strong>num_positive_peaks</strong></summary>[1 1 0 1 1 1 1 1 2 1 1 2 1]</details><details><summary><strong>sync_spike_2</strong></summary>[0. 0. 0. 0. 0. 0. 0. 0. 0. 0. 0. 0. 0.]</details><details><summary><strong>sliding_rp_violation</strong></summary>[0.085 0.165   nan 0.27    nan 0.075 0.065 0.01    nan   nan 0.005   nan\n",
       " 0.015]</details><details><summary><strong>firing_range</strong></summary>[18.88 15.24  1.    2.4   6.2   2.04 25.04 16.48  0.8   0.8  26.56  3.6\n",
       " 17.04]</details><details><summary><strong>amplitude_cutoff</strong></summary>[1.74861477e-05 2.22021556e-04 1.83832715e-03 7.80467552e-04\n",
       " 2.21589733e-04 2.63175344e-04 1.24441581e-04 2.02786749e-04\n",
       " 6.27336896e-04 2.42474587e-03 1.52289343e-05 2.03243203e-04\n",
       " 3.52114501e-05]</details><details><summary><strong>peak_trough_ratio</strong></summary>[-0.24581782 -0.24753861 -0.11771258 -0.27011756 -0.15123834 -0.11901733\n",
       " -0.24010818 -0.29103519 -0.23237666 -0.22341233 -0.2610123  -0.29483943\n",
       " -0.30439358]</details><details><summary><strong>amplitude_cv_median</strong></summary>[0.28347665        nan 0.30769476 0.32014707        nan 0.22079018\n",
       " 0.19544634 0.2134154  0.3573531  0.23728253 0.17840293 1.388168\n",
       " 0.17073485]</details><details><summary><strong>presence_ratio</strong></summary>[1.         1.         1.         1.         0.97560976 1.\n",
       " 1.         1.         1.         1.         1.         1.\n",
       " 1.        ]</details><details><summary><strong>repolarization_slope</strong></summary>[ 343098.2801012   265996.30753479  607376.18327323  250407.64734635\n",
       "   50890.19419851  468953.59067568  527599.31180913  592990.80932464\n",
       "  324828.08663484  364915.96062225  486539.22577306  307377.5839872\n",
       " 1139268.65430195]</details><details><summary><strong>amplitude_cv_range</strong></summary>[0.15835924        nan 0.15284724 0.1470361         nan 0.1267548\n",
       " 0.11275705 0.11476499 0.08275967 0.11579898 0.10034625 0.97137528\n",
       " 0.15533562]</details><details><summary><strong>num_negative_peaks</strong></summary>[1 1 1 1 2 1 1 1 1 1 1 1 1]</details><details><summary><strong>amplitude_median</strong></summary>[-105.3       -88.53      -96.037506  -97.305     -40.365    -140.20499\n",
       " -118.56     -179.20499  -104.91     -106.275    -195.        -27.495\n",
       "  -92.04    ]</details><details><summary><strong>sd_ratio</strong></summary>[1.3375495  1.29846601 1.39371329 1.45430188 2.50238294 1.31817525\n",
       " 1.23063445 1.69975036 1.42541108 1.12319731 1.4885563  2.38828695\n",
       " 0.96755185]</details><details><summary><strong>recovery_slope</strong></summary>[ -22879.87442524  -28105.21118624   -9362.16276518  -21150.31681109\n",
       " -148043.88118897   -7225.90277696  -32711.04128152  -66023.7488184\n",
       "  -23886.69360693  -24387.53654711  -58191.0130689   -11553.47072857\n",
       "  -33869.78703064]</details><details><summary><strong>rp_contamination</strong></summary>[0.14279133 0.15624734 1.         0.19484298 1.         0.06612709\n",
       " 0.12071177 0.02034918 0.         0.         0.00141375 1.\n",
       " 0.01032459]</details><details><summary><strong>sync_spike_8</strong></summary>[0. 0. 0. 0. 0. 0. 0. 0. 0. 0. 0. 0. 0.]</details><details><summary><strong>peak_to_valley</strong></summary>[0.00063333 0.00065    0.00054333 0.00064667 0.0013     0.00058667\n",
       " 0.00051333 0.00052667 0.00095667 0.00072333 0.00068    0.00016667\n",
       " 0.00014333]</details><details><summary><strong>rp_violations</strong></summary>[399.  34.   1.   2.   9.   2. 268.  19.   0.   0.   4. 102.  12.]</details><details><summary><strong>half_width</strong></summary>[0.00025    0.00019667 0.00015667 0.00027333 0.00204667 0.00029\n",
       " 0.00020667 0.00019    0.00029667 0.00022333 0.00027667 0.00012\n",
       " 0.00010667]</details><details><summary><strong>channel_group</strong></summary>[0 0 0 0 0 0 0 0 0 0 0 0 0]</details><details><summary><strong>isi_violations_count</strong></summary>[840. 104.   2.   2.  71.   3. 685.  89.   0.   0.  16. 163.  25.]</details><details><summary><strong>isi_violations_ratio</strong></summary>[1.86100559e-01 2.93730104e-01 1.10391372e+00 1.17240724e-01\n",
       " 5.55958583e+00 6.39406961e-02 1.93275821e-01 6.29000024e-02\n",
       " 0.00000000e+00 0.00000000e+00 3.76732344e-03 1.20355422e+01\n",
       " 1.42656799e-02]</details></ul></details>"
      ],
      "text/plain": [
       "PhySortingExtractor: 13 units - 1 segments - 30.0kHz"
      ]
     },
     "execution_count": 7,
     "metadata": {},
     "output_type": "execute_result"
    }
   ],
   "source": [
    "sorting"
   ]
  },
  {
   "cell_type": "code",
   "execution_count": null,
   "metadata": {},
   "outputs": [],
   "source": []
  }
 ],
 "metadata": {
  "kernelspec": {
   "display_name": "ms10",
   "language": "python",
   "name": "python3"
  },
  "language_info": {
   "codemirror_mode": {
    "name": "ipython",
    "version": 3
   },
   "file_extension": ".py",
   "mimetype": "text/x-python",
   "name": "python",
   "nbconvert_exporter": "python",
   "pygments_lexer": "ipython3",
   "version": "3.10.14"
  }
 },
 "nbformat": 4,
 "nbformat_minor": 2
}
