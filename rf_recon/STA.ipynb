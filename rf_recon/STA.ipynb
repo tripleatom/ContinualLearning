{
 "cells": [
  {
   "cell_type": "code",
   "execution_count": 1,
   "metadata": {},
   "outputs": [
    {
     "name": "stderr",
     "output_type": "stream",
     "text": [
      "c:\\Users\\Windows\\.conda\\envs\\ms10\\lib\\site-packages\\tqdm\\auto.py:21: TqdmWarning: IProgress not found. Please update jupyter and ipywidgets. See https://ipywidgets.readthedocs.io/en/stable/user_install.html\n",
      "  from .autonotebook import tqdm as notebook_tqdm\n"
     ]
    },
    {
     "name": "stdout",
     "output_type": "stream",
     "text": [
      "black minima number:  2399\n",
      "white minima number:  2399\n"
     ]
    },
    {
     "name": "stderr",
     "output_type": "stream",
     "text": [
      "\\\\10.129.151.108\\xieluanlabs\\xl_cl\\code\\process_func\\readTrodesExtractedDataFile3.py:64: FutureWarning: Passing (type, 1) or '1type' as a synonym of type is deprecated; in a future version of numpy, it will be understood as (type, (1,)) / '(1,)type'.\n",
      "  return np.dtype(typearr)\n"
     ]
    }
   ],
   "source": [
    "import matplotlib.pyplot as plt\n",
    "from spikeinterface import load_sorting_analyzer\n",
    "import scipy.io\n",
    "import numpy as np\n",
    "from pathlib import Path\n",
    "import os\n",
    "import process_func.DIO as DIO\n",
    "from scipy.signal import find_peaks\n",
    "from rf_func import find_stim_index\n",
    "\n",
    "animal_id = 'CnL22'\n",
    "session_id = '20241113_155342'\n",
    "ishs = ['0', '1', '2', '3']\n",
    "\n",
    "dot_time = 0.2 # each stimulus last for 0.2s\n",
    "trial_dur = 480 # each trial last for 480 s. 5*8 pixels, 60 repeats.\n",
    "\n",
    "dots_order = scipy.io.loadmat(r'\\\\10.129.151.108\\xieluanlabs\\xl_cl\\code\\rf_recon\\dots_order.mat')\n",
    "dots_order = dots_order['dots_order'][0] - 1 # matlab index starts from 1\n",
    "\n",
    "black_dots_stimuli = np.ones((len(dots_order), 5, 8))\n",
    "white_dots_stimuli = np.zeros((len(dots_order), 5, 8))\n",
    "\n",
    "for i, dot in enumerate(dots_order):\n",
    "    row = dot // 8\n",
    "    col = dot % 8\n",
    "    black_dots_stimuli[i, row, col] = 0\n",
    "    white_dots_stimuli[i, row, col] = 1\n",
    "\n",
    "\n",
    "start_time = 97322875 # ephys recording start time stamp\n",
    "end_time = 127991645\n",
    "black_start = 97830201 # black dots start time stamp\n",
    "black_end = 112242128\n",
    "white_start = 112858628 # white dots start time stamp\n",
    "white_end = 127270573\n",
    "\n",
    "black_start = black_start - start_time\n",
    "white_start = white_start - start_time\n",
    "\n",
    "rec_folder = rf\"D:\\cl\\rf_reconstruction\\head_fixed\\{animal_id}_{session_id}.rec\"\n",
    "\n",
    "dio_folders = DIO.get_dio_folders(rec_folder)\n",
    "dio_folders = sorted(dio_folders, key=lambda x:x.name)\n",
    "\n",
    "pd_time, pd_state = DIO.concatenate_din_data(dio_folders, 1)\n",
    "\n",
    "time_diff = np.diff(pd_time)/30000\n",
    "freq = 1./time_diff / 1000 # kHz\n",
    "\n",
    "minima_indices, _ = find_peaks(-freq, distance=500, height=-1)\n",
    "black_start = 97830201 # black dots start time stamp\n",
    "black_end = 112242128\n",
    "\n",
    "# get the local minima numbers between black_start and black_end\n",
    "black_minima_indices = minima_indices[(pd_time[minima_indices] > black_start) & (pd_time[minima_indices] < black_end)]\n",
    "black_minima = pd_time[black_minima_indices]\n",
    "\n",
    "print('black minima number: ', len(black_minima_indices))\n",
    "\n",
    "white_start = 112858625 # white dots start time stamp\n",
    "white_end = 127270570\n",
    "\n",
    "# get the local minima numbers between white_start and white_end\n",
    "white_minima_indices = minima_indices[(pd_time[minima_indices] > white_start) & (pd_time[minima_indices] < white_end)]\n",
    "white_minima = pd_time[white_minima_indices]\n",
    "print('white minima number: ', len(white_minima_indices))"
   ]
  },
  {
   "cell_type": "code",
   "execution_count": 2,
   "metadata": {},
   "outputs": [],
   "source": [
    "ish = 1\n",
    "rec_folder = rf'\\\\10.129.151.108\\xieluanlabs\\xl_cl\\code\\sortout\\{animal_id}\\{session_id}\\{ish}'\n",
    "sorting_results_folders = []\n",
    "for root, dirs, files in os.walk(rec_folder):\n",
    "    for dir_name in dirs:\n",
    "        if dir_name.startswith('sorting_results_'):  # Check if the folder name matches the pattern\n",
    "            sorting_results_folders.append(os.path.join(root, dir_name))"
   ]
  },
  {
   "cell_type": "code",
   "execution_count": 3,
   "metadata": {},
   "outputs": [
    {
     "name": "stdout",
     "output_type": "stream",
     "text": [
      "SortingAnalyzer: 32 channels - 24 units - 1 segments - binary_folder - sparse - has recording\n",
      "Loaded 8 extensions: amplitude_scalings, noise_levels, quality_metrics, random_spikes, spike_amplitudes, templates, template_metrics, waveforms\n"
     ]
    }
   ],
   "source": [
    "sorting_results_folder = sorting_results_folders[0]\n",
    "\n",
    "sorting_analyzer_folder = Path(sorting_results_folder) / 'sorting_analyzer'\n",
    "out_fig_folder = Path(sorting_results_folder) / 'STA'\n",
    "out_fig_folder = Path(out_fig_folder)\n",
    "if not out_fig_folder.exists():\n",
    "    out_fig_folder.mkdir(parents=True)\n",
    "\n",
    "\n",
    "sorting_analyzer = load_sorting_analyzer(sorting_analyzer_folder)\n",
    "print(sorting_analyzer)\n",
    "sorting = sorting_analyzer.sorting\n",
    "\n",
    "unit_ids = sorting.unit_ids\n",
    "fs = sorting.sampling_frequency"
   ]
  },
  {
   "cell_type": "code",
   "execution_count": null,
   "metadata": {},
   "outputs": [],
   "source": []
  },
  {
   "cell_type": "code",
   "execution_count": 9,
   "metadata": {},
   "outputs": [],
   "source": [
    "spikes = sorting.get_unit_spike_train(1) + start_time\n",
    "white_dot_spikes = spikes[(spikes > white_start) & (spikes < white_end)]\n",
    "black_dot_spikes = spikes[(spikes > black_start) & (spikes < black_end)]\n"
   ]
  },
  {
   "cell_type": "code",
   "execution_count": 10,
   "metadata": {},
   "outputs": [
    {
     "data": {
      "text/plain": [
       "<matplotlib.collections.PathCollection at 0x1ca9d8df6d0>"
      ]
     },
     "execution_count": 10,
     "metadata": {},
     "output_type": "execute_result"
    },
    {
     "data": {
      "image/png": "[encoded data removed]",
      "text/plain": [
       "<Figure size 640x480 with 1 Axes>"
      ]
     },
     "metadata": {},
     "output_type": "display_data"
    }
   ],
   "source": [
    "plt.scatter(black_minima[:20], np.ones(20), c='r')\n",
    "plt.scatter(black_dot_spikes[:20], np.ones(20), c='b')"
   ]
  },
  {
   "cell_type": "code",
   "execution_count": null,
   "metadata": {},
   "outputs": [],
   "source": [
    "\n",
    "for i, unit_id in enumerate(unit_ids):\n",
    "    spikes = sorting.get_unit_spike_train(unit_id) + start_time  # spike train in sorting is start from 0\n",
    "    white_dot_spikes = spikes[(spikes > white_start) & (spikes < white_end)]\n",
    "    black_dot_spikes = spikes[(spikes > black_start) & (spikes < black_end)]\n",
    "\n",
    "    ST  = []\n",
    "    ST_white = []\n",
    "    ST_black = []\n",
    "    prior_time = 0.2 # s\n",
    "    for spike in white_dot_spikes:\n",
    "        i_stimuli = find_stim_index(spike-prior_time*fs, white_minima)\n",
    "        ST_white.append(white_dots_stimuli[i_stimuli])\n",
    "        ST.append(white_dots_stimuli[i_stimuli])\n",
    "\n",
    "    for spikes in black_dot_spikes:\n",
    "        i_stimuli = find_stim_index(spike-prior_time*fs, black_minima)\n",
    "        ST.append(black_dots_stimuli[i_stimuli])\n",
    "        ST_black.append(black_dots_stimuli[i_stimuli])\n",
    "\n",
    "    # average of ST\n",
    "    ST = np.array(ST)\n",
    "    ST_white = np.array(ST_white)\n",
    "    ST_black = np.array(ST_black)\n",
    "    STA = np.mean(ST, axis=0)\n",
    "    STA_white = np.mean(ST_white, axis=0)\n",
    "    STA_black = np.mean(ST_black, axis=0)"
   ]
  }
 ],
 "metadata": {
  "kernelspec": {
   "display_name": "Python 3",
   "language": "python",
   "name": "python3"
  },
  "language_info": {
   "codemirror_mode": {
    "name": "ipython",
    "version": 3
   },
   "file_extension": ".py",
   "mimetype": "text/x-python",
   "name": "python",
   "nbconvert_exporter": "python",
   "pygments_lexer": "ipython3",
   "version": "3.10.14"
  }
 },
 "nbformat": 4,
 "nbformat_minor": 2
}
