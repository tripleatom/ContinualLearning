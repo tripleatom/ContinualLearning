{
 "cells": [
  {
   "cell_type": "code",
   "execution_count": 20,
   "metadata": {},
   "outputs": [],
   "source": [
    "import matplotlib.pyplot as plt\n",
    "from spikeinterface import load_sorting_analyzer\n",
    "import scipy.io\n",
    "import numpy as np\n",
    "from pathlib import Path\n",
    "import os\n",
    "import process_func.DIO as DIO\n",
    "from scipy.signal import find_peaks\n",
    "import pickle"
   ]
  },
  {
   "cell_type": "code",
   "execution_count": 48,
   "metadata": {},
   "outputs": [
    {
     "name": "stderr",
     "output_type": "stream",
     "text": [
      "\\\\10.129.151.108\\xieluanlabs\\xl_cl\\code\\process_func\\readTrodesExtractedDataFile3.py:64: FutureWarning: Passing (type, 1) or '1type' as a synonym of type is deprecated; in a future version of numpy, it will be understood as (type, (1,)) / '(1,)type'.\n",
      "  return np.dtype(typearr)\n"
     ]
    }
   ],
   "source": [
    "animal_id = 'CnL22'\n",
    "session_id = '20241203_123534'\n",
    "ishs = ['0', '1', '2', '3']\n",
    "\n",
    "rec_folder = rf\"D:\\cl\\rf_reconstruction\\freelymoving\\{animal_id}_{session_id}.rec\"\n",
    "rec_folder = Path(rec_folder)\n",
    "\n",
    "dio_folders = DIO.get_dio_folders(rec_folder)\n",
    "dio_folders = sorted(dio_folders, key=lambda x:x.name)\n",
    "pd_time, pd_state = DIO.concatenate_din_data(dio_folders, 2)\n",
    "\n",
    "\n",
    "dlc_proc_file = r\"D:\\cl\\video\\Imaging_source_CnL22_2024-12-03_3_PROC\"\n",
    "with open(dlc_proc_file, 'rb') as f:\n",
    "    dlc_proc = pickle.load(f)"
   ]
  },
  {
   "cell_type": "code",
   "execution_count": null,
   "metadata": {},
   "outputs": [],
   "source": [
    "\n",
    "def average_array(arr, block_size, axis=0):\n",
    "    # Move the target axis to the front for easier indexing\n",
    "    arr = np.moveaxis(arr, axis, 0)\n",
    "    n = arr.shape[0]\n",
    "    \n",
    "    full_blocks = (n // block_size) * block_size\n",
    "    # Average the full blocks\n",
    "    averaged_data = arr[:full_blocks].reshape(-1, block_size, *arr.shape[1:]).mean(axis=1)\n",
    "\n",
    "    # Handle the remainder\n",
    "    remainder = n % block_size\n",
    "    if remainder > 0:\n",
    "        remainder_mean = arr[full_blocks:].mean(axis=0, keepdims=True)\n",
    "        averaged_data = np.concatenate([averaged_data, remainder_mean], axis=0)\n",
    "    \n",
    "    # Move the axis back to its original position\n",
    "    averaged_data = np.moveaxis(averaged_data, 0, axis)\n",
    "    return averaged_data\n"
   ]
  },
  {
   "cell_type": "code",
   "execution_count": 56,
   "metadata": {},
   "outputs": [],
   "source": [
    "ts_file = r\"D:\\cl\\video\\Imaging_source_CnL22_2024-12-03_3_TS.npy\"\n",
    "ts = np.load(ts_file)\n",
    "\n",
    "averaged_ts = average_array(ts, 10)"
   ]
  },
  {
   "cell_type": "code",
   "execution_count": 23,
   "metadata": {},
   "outputs": [],
   "source": [
    "unity_frame_folder = rec_folder / 'unity'\n",
    "# load all images in unity folder in grayscale, and store them in a array\n",
    "unity_frames = []\n",
    "for unity_frame_file in unity_frame_folder.glob('*.png'):\n",
    "    unity_frame = plt.imread(unity_frame_file)\n",
    "    gray = np.dot(unity_frame[..., :3], [0.299, 0.587, 0.114])\n",
    "    unity_frames.append(gray)\n",
    "unity_frames = np.array(unity_frames)"
   ]
  },
  {
   "cell_type": "code",
   "execution_count": 24,
   "metadata": {},
   "outputs": [
    {
     "data": {
      "text/plain": [
       "<matplotlib.image.AxesImage at 0x22aa346de70>"
      ]
     },
     "execution_count": 24,
     "metadata": {},
     "output_type": "execute_result"
    },
    {
     "data": {
      "image/png": "[encoded data removed]",
      "text/plain": [
       "<Figure size 640x480 with 1 Axes>"
      ]
     },
     "metadata": {},
     "output_type": "display_data"
    }
   ],
   "source": [
    "plt.imshow(unity_frames[1000], cmap='gray')"
   ]
  },
  {
   "cell_type": "code",
   "execution_count": 57,
   "metadata": {},
   "outputs": [],
   "source": [
    "# read conf file\n",
    "files = rec_folder.glob(\"head_conf_eye_conf*.npy\")\n",
    "full_paths = [os.path.abspath(f) for f in files]\n",
    "conf_file = Path(full_paths[0])\n",
    "conf = np.load(conf_file)\n",
    "\n",
    "conf = average_array(conf, 10)"
   ]
  },
  {
   "cell_type": "code",
   "execution_count": null,
   "metadata": {},
   "outputs": [],
   "source": [
    "# ish = 1\n",
    "# rec_folder = rf'\\\\10.129.151.108\\xieluanlabs\\xl_cl\\code\\sortout\\{animal_id}\\{session_id}\\{ish}'\n",
    "# sorting_results_folders = []\n",
    "# for root, dirs, files in os.walk(rec_folder):\n",
    "#     for dir_name in dirs:\n",
    "#         if dir_name.startswith('sorting_results_'):  # Check if the folder name matches the pattern\n",
    "#             sorting_results_folders.append(os.path.join(root, dir_name))"
   ]
  },
  {
   "cell_type": "code",
   "execution_count": 27,
   "metadata": {},
   "outputs": [
    {
     "name": "stdout",
     "output_type": "stream",
     "text": [
      "SortingAnalyzer: 32 channels - 18 units - 1 segments - binary_folder - sparse - has recording\n",
      "Loaded 8 extensions: amplitude_scalings, noise_levels, quality_metrics, random_spikes, spike_amplitudes, templates, template_metrics, waveforms\n"
     ]
    }
   ],
   "source": [
    "sorting_results_folder = sorting_results_folders[0]\n",
    "\n",
    "sorting_analyzer_folder = Path(sorting_results_folder) / 'sorting_analyzer'\n",
    "out_fig_folder = Path(sorting_results_folder) / 'STA'\n",
    "out_fig_folder = Path(out_fig_folder)\n",
    "if not out_fig_folder.exists():\n",
    "    out_fig_folder.mkdir(parents=True)\n",
    "\n",
    "\n",
    "sorting_analyzer = load_sorting_analyzer(sorting_analyzer_folder)\n",
    "print(sorting_analyzer)\n",
    "sorting = sorting_analyzer.sorting\n",
    "\n",
    "unit_ids = sorting.unit_ids\n",
    "fs = sorting.sampling_frequency"
   ]
  },
  {
   "cell_type": "code",
   "execution_count": 28,
   "metadata": {},
   "outputs": [],
   "source": [
    "ephys_start_time = pd_time[0]"
   ]
  },
  {
   "cell_type": "markdown",
   "metadata": {},
   "source": [
    "ephys_peaks"
   ]
  },
  {
   "cell_type": "code",
   "execution_count": 29,
   "metadata": {},
   "outputs": [
    {
     "name": "stdout",
     "output_type": "stream",
     "text": [
      "rising edge numbers: 7668\n"
     ]
    }
   ],
   "source": [
    "rising_edge, _ = find_peaks(pd_state)\n",
    "print('rising edge numbers:', len(rising_edge))\n",
    "ephys_peak_time = pd_time[rising_edge]"
   ]
  },
  {
   "cell_type": "code",
   "execution_count": 30,
   "metadata": {},
   "outputs": [],
   "source": [
    "video_start = ts[0]"
   ]
  },
  {
   "cell_type": "code",
   "execution_count": 31,
   "metadata": {},
   "outputs": [
    {
     "name": "stdout",
     "output_type": "stream",
     "text": [
      "rising edge numbers: 7668\n"
     ]
    }
   ],
   "source": [
    "dlc_rising_edge, _ = find_peaks(dlc_proc['signal'])\n",
    "print('rising edge numbers:', len(dlc_rising_edge))\n",
    "dlc_peak_time = dlc_proc['signal_time'][dlc_rising_edge]"
   ]
  },
  {
   "cell_type": "code",
   "execution_count": 32,
   "metadata": {},
   "outputs": [
    {
     "data": {
      "text/plain": [
       "{'signal': array([0., 0., 0., ..., 1., 1., 1.]),\n",
       " 'signal_time': array([1.73325096e+09, 1.73325096e+09, 1.73325096e+09, ...,\n",
       "        1.73325404e+09, 1.73325404e+09, 1.73325404e+09])}"
      ]
     },
     "execution_count": 32,
     "metadata": {},
     "output_type": "execute_result"
    }
   ],
   "source": [
    "dlc_proc"
   ]
  },
  {
   "cell_type": "code",
   "execution_count": 33,
   "metadata": {},
   "outputs": [],
   "source": [
    "unit_id = 1"
   ]
  },
  {
   "cell_type": "code",
   "execution_count": 34,
   "metadata": {},
   "outputs": [],
   "source": [
    "spikes = sorting.get_unit_spike_train(unit_id) + ephys_start_time"
   ]
  },
  {
   "cell_type": "code",
   "execution_count": 35,
   "metadata": {},
   "outputs": [],
   "source": [
    "ephys_first_rising = ephys_peak_time[0]\n",
    "dlc_first_rising = dlc_peak_time[0]"
   ]
  },
  {
   "cell_type": "code",
   "execution_count": null,
   "metadata": {},
   "outputs": [],
   "source": [
    "ts_aligned = averaged_ts - dlc_first_rising\n",
    "spikes_aligned = (spikes - ephys_first_rising)/fs  # convert to seconds"
   ]
  },
  {
   "cell_type": "code",
   "execution_count": 60,
   "metadata": {},
   "outputs": [],
   "source": [
    "prior_time = 0.2\n",
    "ST = []\n",
    "\n",
    "for i, spike in enumerate(spikes_aligned):\n",
    "    if spike <= 0 or spike >= ts_aligned[-1]:\n",
    "        continue\n",
    "    idx = np.searchsorted(ts_aligned, spike-prior_time) - 1\n",
    "    if idx < 0:\n",
    "        continue\n",
    "\n",
    "    if np.any(conf[idx] < 0.7):\n",
    "        continue\n",
    "    frame = unity_frames[idx]\n",
    "    ST.append(frame)\n",
    "\n",
    "ST = np.array(ST)\n",
    "STA = np.mean(ST, axis=0)"
   ]
  },
  {
   "cell_type": "code",
   "execution_count": 61,
   "metadata": {},
   "outputs": [
    {
     "data": {
      "text/plain": [
       "<matplotlib.image.AxesImage at 0x22a8071a9b0>"
      ]
     },
     "execution_count": 61,
     "metadata": {},
     "output_type": "execute_result"
    },
    {
     "data": {
      "image/png": "[encoded data removed]",
      "text/plain": [
       "<Figure size 640x480 with 1 Axes>"
      ]
     },
     "metadata": {},
     "output_type": "display_data"
    }
   ],
   "source": [
    "plt.imshow(STA, cmap='gray')"
   ]
  },
  {
   "cell_type": "code",
   "execution_count": null,
   "metadata": {},
   "outputs": [],
   "source": []
  }
 ],
 "metadata": {
  "kernelspec": {
   "display_name": "ms10",
   "language": "python",
   "name": "python3"
  },
  "language_info": {
   "codemirror_mode": {
    "name": "ipython",
    "version": 3
   },
   "file_extension": ".py",
   "mimetype": "text/x-python",
   "name": "python",
   "nbconvert_exporter": "python",
   "pygments_lexer": "ipython3",
   "version": "3.10.14"
  }
 },
 "nbformat": 4,
 "nbformat_minor": 2
}
