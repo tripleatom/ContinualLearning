{
 "cells": [
  {
   "cell_type": "code",
   "execution_count": 3,
   "metadata": {},
   "outputs": [],
   "source": [
    "import pickle\n",
    "import numpy as np"
   ]
  },
  {
   "cell_type": "code",
   "execution_count": 4,
   "metadata": {},
   "outputs": [
    {
     "data": {
      "text/plain": [
       "{'start_time': 1732058283.9336996,\n",
       " 'episode': array([ 1,  1,  1, ..., 12, 12, 12]),\n",
       " 'step': array([    1,     2,     3, ..., 10456, 10457, 10458]),\n",
       " 'step_time': array([0.00000000e+00, 5.32944202e-02, 5.52980900e-02, ...,\n",
       "        1.74554870e+02, 1.74570799e+02, 1.74588071e+02]),\n",
       " 'state': array([[ -0.86     ,  -6.97     ,   0.       , ...,   0.       ,\n",
       "           0.       ,   0.       ],\n",
       "        [  1.2083656,  -4.231875 , 358.38455  , ...,   0.       ,\n",
       "           0.       ,   0.       ],\n",
       "        [  1.2120398,  -4.230023 , 358.37878  , ...,   0.       ,\n",
       "           0.       ,   0.       ],\n",
       "        ...,\n",
       "        [ -6.5327377,  -4.798881 ,  58.41415  , ...,   1.       ,\n",
       "           1.       ,   0.       ],\n",
       "        [ -6.532514 ,  -4.7989626,  58.414997 , ...,   1.       ,\n",
       "           1.       ,   0.       ],\n",
       "        [ -6.5322766,  -4.7991076,  58.416355 , ...,   1.       ,\n",
       "           1.       ,   0.       ]], dtype=float32),\n",
       " 'action': array([[[  1.2083655 ,  -4.23187471, 358.38455692,   0.        ]],\n",
       " \n",
       "        [[  1.21203982,  -4.23002306, 358.37879834,   0.        ]],\n",
       " \n",
       "        [[  1.21203982,  -4.23002306, 358.37879834,   0.        ]],\n",
       " \n",
       "        ...,\n",
       " \n",
       "        [[ -6.53251392,  -4.79896253,  58.41499224,   1.        ]],\n",
       " \n",
       "        [[ -6.53227687,  -4.79910778,  58.41635365,   1.        ]],\n",
       " \n",
       "        [[ -6.53227687,  -4.79910778,  58.41635365,   1.        ]]]),\n",
       " 'reward': array([0., 0., 0., ..., 0., 0., 0.], dtype=float32),\n",
       " 'terminal': array([False, False, False, ..., False, False, False]),\n",
       " 'session_label': ['ar_shape_detection_velthr'],\n",
       " 'dlc_read_time': array([1.73205828e+09, 1.73205828e+09, 1.73205828e+09, ...,\n",
       "        1.73205846e+09, 1.73205846e+09, 1.73205846e+09]),\n",
       " 'dlc_x': array([300.57965088, 300.68783919, 300.68275141, ...,  72.64716129,\n",
       "         72.65375667,  72.66073673]),\n",
       " 'dlc_y': array([367.71798706, 367.83603017, 367.8482095 , ..., 331.57133331,\n",
       "        331.56613895, 331.55687923]),\n",
       " 'dlc_heading': array([ 88.38455692,  88.37879834,  88.37595208, ..., 148.41414866,\n",
       "        148.41499224, 148.41635365]),\n",
       " 'block_labels': array(['single_wide_pacman', 'single_wide_pacman', 'single_wide_pacman',\n",
       "        'single_wide_pacman', 'single_wide_pacman', 'single_wide_pacman',\n",
       "        'single_wide_pacman', 'single_wide_pacman', 'single_wide_pacman',\n",
       "        'single_wide_pacman', 'single_wide_pacman', 'single_wide_pacman'],\n",
       "       dtype='<U18'),\n",
       " 'slit_size': array([4., 4., 4., 4., 4., 4., 4., 4., 4., 4., 4., 4.]),\n",
       " 'trial_slit_depth': array([0.02, 0.02, 0.02, 0.02, 0.02, 0.02, 0.02, 0.02, 0.02, 0.02, 0.02,\n",
       "        0.02]),\n",
       " 'r_report_box': array([-10,  -5,  -4,  -2]),\n",
       " 'l_report_box': array([ 5, 10, -4, -2]),\n",
       " 'start_box': array([-4,  4, -9, -5, 90]),\n",
       " 'cropped_image': array([  0, 530,   0, 510]),\n",
       " 'unity_arena_size': array([ -9,   9, -10,  -2]),\n",
       " 'camera_rotation': array(90.),\n",
       " 'mouse_report_delay': array([0., 0., 0., 0., 0., 0., 0., 0., 0., 0., 0., 0.]),\n",
       " 'velocity_threshold': 5.0,\n",
       " 'start_box_delay': 0.25,\n",
       " 'distractor': 0.0,\n",
       " 'target_size': 2.0,\n",
       " 'grey_screen_active': 0.0,\n",
       " 'camera_type': 1.0,\n",
       " 'target_selection': array([13., 13., 13., 13., 13., 13., 13., 13., 13., 13., 13., 13.]),\n",
       " 'distractor_selection': array([6., 6., 6., 6., 6., 6., 6., 6., 6., 6., 6., 6.]),\n",
       " 'occlusion_type': array([0., 0., 0., 0., 0., 0., 0., 0., 0., 0., 0., 0.]),\n",
       " 'target_distance': array([4., 4., 4., 4., 4., 4., 4., 4., 4., 4., 4., 4.]),\n",
       " 'target_rotation': array([15., 15., 15., 15., 15., 15., 15., 15., 15., 15., 15., 15.]),\n",
       " 'reward_size': array([[100],\n",
       "        [100],\n",
       "        [100],\n",
       "        [100],\n",
       "        [100],\n",
       "        [100],\n",
       "        [100],\n",
       "        [100],\n",
       "        [100],\n",
       "        [100],\n",
       "        [100],\n",
       "        [100]]),\n",
       " 'prob_obj_on_left': 0.5,\n",
       " 'object_on_left': array([0., 1., 0., 0., 1., 0., 1., 1., 1., 0., 1., 0.]),\n",
       " 'reward_episode': array([ 1,  3,  4,  6, 10, 12]),\n",
       " 'slit_size_param': array([4., 4., 1.]),\n",
       " 'block_length_param': array(1.),\n",
       " 'rotate_camera_param': 90.0,\n",
       " 'epoch_param': [250],\n",
       " 'mouse_report_delay_param': 0.0,\n",
       " 'prob_block_coherence': array(0.5),\n",
       " 'slit_depth_param': 0.02,\n",
       " 'target_selection_param': 13.0,\n",
       " 'distractor_selection_param': 6.0,\n",
       " 'occlusion_type_param': 0.0,\n",
       " 'target_spread_param': 3.0,\n",
       " 'target_rotation_param': 15.0,\n",
       " 'target_height_param': 3.0,\n",
       " 'target_distance_param': 4.0,\n",
       " 'trial_prob_object_left': array([0.5, 0.5, 0.5, 0.5, 0.5, 0.5, 0.5, 0.5, 0.5, 0.5, 0.5, 0.5]),\n",
       " 'trial_target_spread': array([3., 3., 3., 3., 3., 3., 3., 3., 3., 3., 3., 3.]),\n",
       " 'trial_target_height': array([3., 3., 3., 3., 3., 3., 3., 3., 3., 3., 3., 3.])}"
      ]
     },
     "execution_count": 4,
     "metadata": {},
     "output_type": "execute_result"
    }
   ],
   "source": [
    "task_file = r\"D:\\cl\\task\\test_2024-11-19_1.pickle\"\n",
    "\n",
    "with open(task_file, 'rb') as f:\n",
    "    task = pickle.load(f)\n",
    "task"
   ]
  },
  {
   "cell_type": "code",
   "execution_count": 5,
   "metadata": {},
   "outputs": [
    {
     "data": {
      "text/plain": [
       "dict_keys(['start_time', 'episode', 'step', 'step_time', 'state', 'action', 'reward', 'terminal', 'session_label', 'dlc_read_time', 'dlc_x', 'dlc_y', 'dlc_heading', 'block_labels', 'slit_size', 'trial_slit_depth', 'r_report_box', 'l_report_box', 'start_box', 'cropped_image', 'unity_arena_size', 'camera_rotation', 'mouse_report_delay', 'velocity_threshold', 'start_box_delay', 'distractor', 'target_size', 'grey_screen_active', 'camera_type', 'target_selection', 'distractor_selection', 'occlusion_type', 'target_distance', 'target_rotation', 'reward_size', 'prob_obj_on_left', 'object_on_left', 'reward_episode', 'slit_size_param', 'block_length_param', 'rotate_camera_param', 'epoch_param', 'mouse_report_delay_param', 'prob_block_coherence', 'slit_depth_param', 'target_selection_param', 'distractor_selection_param', 'occlusion_type_param', 'target_spread_param', 'target_rotation_param', 'target_height_param', 'target_distance_param', 'trial_prob_object_left', 'trial_target_spread', 'trial_target_height'])"
      ]
     },
     "execution_count": 5,
     "metadata": {},
     "output_type": "execute_result"
    }
   ],
   "source": [
    "task.keys()"
   ]
  },
  {
   "cell_type": "code",
   "execution_count": 6,
   "metadata": {},
   "outputs": [
    {
     "data": {
      "text/plain": [
       "array([0., 1., 0., 0., 1., 0., 1., 1., 1., 0., 1., 0.])"
      ]
     },
     "execution_count": 6,
     "metadata": {},
     "output_type": "execute_result"
    }
   ],
   "source": [
    "task['object_on_left']"
   ]
  },
  {
   "cell_type": "code",
   "execution_count": 8,
   "metadata": {},
   "outputs": [
    {
     "data": {
      "text/plain": [
       "array([ 1,  3,  4,  6, 10, 12])"
      ]
     },
     "execution_count": 8,
     "metadata": {},
     "output_type": "execute_result"
    }
   ],
   "source": [
    "task['reward_episode']"
   ]
  },
  {
   "cell_type": "code",
   "execution_count": 6,
   "metadata": {},
   "outputs": [],
   "source": [
    "terminal = task['terminal']\n",
    "reward = task['reward']"
   ]
  },
  {
   "cell_type": "code",
   "execution_count": 7,
   "metadata": {},
   "outputs": [
    {
     "data": {
      "text/plain": [
       "206475"
      ]
     },
     "execution_count": 7,
     "metadata": {},
     "output_type": "execute_result"
    }
   ],
   "source": [
    "len(reward)"
   ]
  },
  {
   "cell_type": "code",
   "execution_count": 8,
   "metadata": {},
   "outputs": [],
   "source": [
    "state = task['state']"
   ]
  },
  {
   "cell_type": "code",
   "execution_count": 9,
   "metadata": {},
   "outputs": [
    {
     "data": {
      "text/plain": [
       "array([  3031,   5708,   9112,  18767,  20887,  22733,  23911,  27226,\n",
       "        29038,  29514,  33781,  35587,  36031,  37990,  42073,  44255,\n",
       "        44853,  45364,  46208,  46984,  48813,  49292,  50105,  51321,\n",
       "        57024,  58098,  58904,  60371,  61143,  61778,  62686,  63635,\n",
       "        64320,  64694,  65139,  66233,  68373,  69659,  71008,  74818,\n",
       "        79913,  80230,  81165,  81720,  82903,  85258,  85780,  86326,\n",
       "        88039,  89325,  89987,  90670,  91118,  96277,  97521,  98068,\n",
       "        98527,  98837,  99301,  99663, 102485, 102798, 103224, 103575,\n",
       "       103842, 104262, 104754, 105125, 105514, 105774, 106076, 110210,\n",
       "       110930, 111605, 111980, 112404, 112702, 113291, 114351, 116054,\n",
       "       119221, 120577, 121106, 121686, 122103, 122796, 123363, 124887,\n",
       "       125874, 126346, 126890, 127256, 127724, 129677, 130926, 131228,\n",
       "       131571, 131892, 132532, 132915, 133448, 134266, 135203, 136006,\n",
       "       136586, 136894, 137455, 137701, 138116, 138659, 139258, 139539,\n",
       "       139735, 140255, 140594, 140791, 142137, 142546, 142814, 143205,\n",
       "       143724, 143957, 144470, 145261, 145470, 145993, 148047, 148305,\n",
       "       148597, 149801, 150099, 150325, 150870, 151464, 152300, 152638,\n",
       "       153068, 153592, 154753, 155360, 156009, 156654, 156980, 157209,\n",
       "       158110, 158868, 159386, 160383, 161149, 161620, 162318, 162770,\n",
       "       163321, 164700, 165115, 166163, 167337, 168265, 168669, 169173,\n",
       "       171092, 172281, 172623, 173031, 173725, 174469, 174889, 175704,\n",
       "       176005, 176196, 176859, 177221, 177561, 177855, 178101, 178507,\n",
       "       179024, 179606, 179967, 180459, 180870, 181166, 181696, 182198,\n",
       "       182732, 183289, 183758, 185694, 186079, 186488, 187930, 197055,\n",
       "       197477, 197747, 198328, 198865, 199435, 199772, 199981, 200267,\n",
       "       200889, 201155, 201724, 202315, 202916, 203735, 203935, 204276,\n",
       "       205058, 206189])"
      ]
     },
     "execution_count": 9,
     "metadata": {},
     "output_type": "execute_result"
    }
   ],
   "source": [
    "terminal_index = np.where(terminal)[0]\n",
    "terminal_index"
   ]
  },
  {
   "cell_type": "code",
   "execution_count": 10,
   "metadata": {},
   "outputs": [
    {
     "data": {
      "text/plain": [
       "array([    12,   9166,  20910,  23954,  29567,  33817,  38562,  42127,\n",
       "        44308,  46265,  47052,  50157,  57062,  58177,  60498,  61207,\n",
       "        61862,  62807,  63674,  66286,  68424,  71049,  80286,  81215,\n",
       "        81769,  82947,  86388,  88094,  90048,  90778,  97586,  99013,\n",
       "        99727, 103897, 105163, 110261, 110980, 111649, 112911, 113339,\n",
       "       120619, 121170, 123441, 124967, 125919, 127306, 127779, 130080,\n",
       "       131291, 132585, 133494, 134317, 135258, 136948, 137748, 138170,\n",
       "       139790, 140330, 140851, 142186, 142865, 143276, 144016, 144534,\n",
       "       150371, 151520, 152692, 153658, 155501, 156052, 157275, 158163,\n",
       "       159448, 160432, 161666, 162368, 165168, 168304, 169210, 171142,\n",
       "       172332, 174946, 178147, 179071, 180082, 180514, 181741, 182240,\n",
       "       183356, 183824, 186548, 187986, 197120, 198914, 200324, 201202,\n",
       "       201775, 202992, 204317, 205121, 206357])"
      ]
     },
     "execution_count": 10,
     "metadata": {},
     "output_type": "execute_result"
    }
   ],
   "source": [
    "np.where(reward == 1)[0]"
   ]
  }
 ],
 "metadata": {
  "kernelspec": {
   "display_name": "ms10",
   "language": "python",
   "name": "python3"
  },
  "language_info": {
   "codemirror_mode": {
    "name": "ipython",
    "version": 3
   },
   "file_extension": ".py",
   "mimetype": "text/x-python",
   "name": "python",
   "nbconvert_exporter": "python",
   "pygments_lexer": "ipython3",
   "version": "3.10.14"
  }
 },
 "nbformat": 4,
 "nbformat_minor": 2
}
